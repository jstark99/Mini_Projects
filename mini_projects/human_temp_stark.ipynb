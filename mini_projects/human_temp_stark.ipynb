{
 "cells": [
  {
   "cell_type": "markdown",
   "metadata": {},
   "source": [
    "# What is the True Normal Human Body Temperature? \n",
    "\n",
    "#### Background\n",
    "\n",
    "The mean normal body temperature was held to be 37$^{\\circ}$C or 98.6$^{\\circ}$F for more than 120 years since it was first conceptualized and reported by Carl Wunderlich in a famous 1868 book. But, is this value statistically correct?"
   ]
  },
  {
   "cell_type": "code",
   "execution_count": null,
   "metadata": {
    "collapsed": true
   },
   "outputs": [],
   "source": [
    "import pandas as pd\n",
    "import matplotlib.pyplot as plt\n",
    "%matplotlib inline\n",
    "\n",
    "df = pd.read_csv('data/human_body_temperature.csv')"
   ]
  },
  {
   "cell_type": "code",
   "execution_count": null,
   "metadata": {},
   "outputs": [],
   "source": [
    "# First, a histogram\n",
    "%matplotlib inline\n",
    "plt.hist(df['temperature'])\n",
    "plt.xlabel('Temperature')\n",
    "plt.ylabel('Frequency')\n",
    "plt.title('Histogram of Body Temperature')\n",
    "plt.ylim(0, 40)  # Add some buffer space at the top so the bar doesn't get cut off."
   ]
  },
  {
   "cell_type": "code",
   "execution_count": null,
   "metadata": {},
   "outputs": [],
   "source": [
    "# Next, a quantile plot.\n",
    "import statsmodels.api as sm\n",
    "mean = np.mean(df['temperature'])\n",
    "sd = np.std(df['temperature'])\n",
    "z = (df['temperature'] - mean) / sd\n",
    "sm.qqplot(z, line='45')"
   ]
  },
  {
   "cell_type": "code",
   "execution_count": null,
   "metadata": {},
   "outputs": [],
   "source": [
    "# Finally, a normal distribution test. Not recommended!! Use only when you're not sure.\n",
    "import scipy.stats as stats\n",
    "stats.mstats.normaltest(df['temperature'])"
   ]
  },
  {
   "cell_type": "code",
   "execution_count": null,
   "metadata": {},
   "outputs": [],
   "source": [
    "n = len(df['temperature'])\n",
    "n"
   ]
  },
  {
   "cell_type": "code",
   "execution_count": null,
   "metadata": {
    "collapsed": true
   },
   "outputs": [],
   "source": [
    "# Calculates p value using 100,000 boostrap replicates\n",
    "bootstrap_replicates = np.empty(100000)\n",
    "\n",
    "size = len(bootstrap_replicates)\n",
    "\n",
    "for i in range(size):\n",
    "    bootstrap_sample = np.random.choice(temperature, size=len(temperature))\n",
    "    bootstrap_replicates[i] = np.mean(bootstrap_sample)\n",
    "\n",
    "p = np.sum(bootstrap_replicates >= 98.6) / len(bootstrap_replicates)\n",
    "print('p =', p)"
   ]
  },
  {
   "cell_type": "code",
   "execution_count": null,
   "metadata": {},
   "outputs": [],
   "source": [
    "z = (mean - 98.6)/(sd / np.sqrt(n))\n",
    "z"
   ]
  },
  {
   "cell_type": "code",
   "execution_count": null,
   "metadata": {},
   "outputs": [],
   "source": [
    "stats.norm.cdf(z) * 2\n",
    "# NOTE: Since CDF gives us $P(Z \\le z)$ and this is a two-tailed test, we multiply the result by 2"
   ]
  },
  {
   "cell_type": "code",
   "execution_count": null,
   "metadata": {
    "collapsed": true
   },
   "outputs": [],
   "source": [
    "t = (mean - 98.6)/(sd / np.sqrt(n))"
   ]
  },
  {
   "cell_type": "code",
   "execution_count": null,
   "metadata": {},
   "outputs": [],
   "source": [
    "t_critical = stats.t.ppf(0.05 / 2, n - 1)\n",
    "t_critical"
   ]
  },
  {
   "cell_type": "code",
   "execution_count": null,
   "metadata": {},
   "outputs": [],
   "source": [
    "sd = df['temperature'].std()\n",
    "n = len(df['temperature'])\n",
    "moe = 1.96 * sd / np.sqrt(n)\n",
    "moe"
   ]
  },
  {
   "cell_type": "code",
   "execution_count": null,
   "metadata": {},
   "outputs": [],
   "source": [
    "mean = df['temperature'].mean()\n",
    "ci = mean + np.array([-1, 1]) * moe\n",
    "ci"
   ]
  },
  {
   "cell_type": "code",
   "execution_count": null,
   "metadata": {
    "collapsed": true
   },
   "outputs": [],
   "source": [
    "# Define bootstrap functions:\n",
    "\n",
    "def replicate(data, function):\n",
    "    \"\"\"Return replicate of a resampled data array.\"\"\"\n",
    "    \n",
    "    # Create the resampled array and return the statistic of interest:\n",
    "    return function(np.random.choice(data, size=len(data)))\n",
    "\n",
    "\n",
    "def draw_replicates(data, function, size=1):\n",
    "    \"\"\"Draw bootstrap replicates.\"\"\"\n",
    "\n",
    "    # Initialize array of replicates:\n",
    "    replicates = np.empty(size)\n",
    "\n",
    "    # Generate replicates:\n",
    "    for i in range(size):\n",
    "        replicates[i] = replicate(data, function)\n",
    "\n",
    "    return replicates"
   ]
  },
  {
   "cell_type": "code",
   "execution_count": null,
   "metadata": {
    "collapsed": true
   },
   "outputs": [],
   "source": [
    "# Seed the random number generator:\n",
    "np.random.seed(15)\n",
    "\n",
    "# Draw bootstrap replicates of temperatures:\n",
    "replicates = draw_replicates(df.temperature, np.mean, 10000)\n",
    "\n",
    "# Compute the 99.9% confidence interval:\n",
    "CI = np.percentile(replicates, [0.05, 99.95])\n",
    "print('99.9% Confidence Interval:', CI)"
   ]
  },
  {
   "cell_type": "code",
   "execution_count": null,
   "metadata": {},
   "outputs": [],
   "source": [
    "males = df.gender == 'M'\n",
    "diff_means = df.temperature[males].mean() - df.temperature[~males].mean()\n",
    "sd_male = df.temperature[males].std()\n",
    "sd_female = df.temperature[~males].std()\n",
    "n_male = np.sum(males)\n",
    "n_female = len(df.temperature) - n_male\n",
    "\n",
    "z = diff_means / np.sqrt(((sd_male ** 2)/ n_male) + ((sd_female ** 2)/ n_female))\n",
    "z"
   ]
  },
  {
   "cell_type": "code",
   "execution_count": null,
   "metadata": {},
   "outputs": [],
   "source": [
    "pval = stats.norm.cdf(z) * 2\n",
    "pval"
   ]
  },
  {
   "cell_type": "code",
   "execution_count": null,
   "metadata": {},
   "outputs": [],
   "source": [
    "diff_means + np.array([-1, 1]) * 1.96 * np.sqrt(((sd_male ** 2)/ n_male) + ((sd_female ** 2)/ n_female))"
   ]
  },
  {
   "cell_type": "code",
   "execution_count": null,
   "metadata": {
    "collapsed": true
   },
   "outputs": [],
   "source": [
    "permutation_replicates = np.empty(100000)\n",
    "\n",
    "size = len(permutation_replicates)\n",
    "\n",
    "for i in range(size):\n",
    "    combined_perm_temperatures = np.random.permutation(np.concatenate((male_temperature, female_temperature)))\n",
    "\n",
    "    male_permutation = combined_perm_temperatures[:len(male_temperature)]\n",
    "    female_permutation = combined_perm_temperatures[len(male_temperature):]\n",
    "\n",
    "    permutation_replicates[i] = np.abs(np.mean(male_permutation) - np.mean(female_permutation))\n",
    "    \n",
    "p_val = np.sum(permutation_replicates >= male_and_female_diff) / len(permutation_replicates)\n",
    "\n",
    "print('p =', p_val)"
   ]
  }
 ],
 "metadata": {
  "kernelspec": {
   "display_name": "Python 3",
   "language": "python",
   "name": "python3"
  },
  "language_info": {
   "codemirror_mode": {
    "name": "ipython",
    "version": 3
   },
   "file_extension": ".py",
   "mimetype": "text/x-python",
   "name": "python",
   "nbconvert_exporter": "python",
   "pygments_lexer": "ipython3",
   "version": "3.6.7"
  }
 },
 "nbformat": 4,
 "nbformat_minor": 1
}
